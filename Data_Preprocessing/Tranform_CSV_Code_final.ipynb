{
 "cells": [
  {
   "cell_type": "code",
   "execution_count": 28,
   "metadata": {},
   "outputs": [],
   "source": [
    "import pandas as pd"
   ]
  },
  {
   "cell_type": "code",
   "execution_count": 29,
   "metadata": {
    "id": "0PsFJnlGZ55v"
   },
   "outputs": [],
   "source": [
    "file_path = 'C:/Users/kharep/Downloads/Kmean_Norm_Non-Plus1/Final_ROI_data.csv'  # Assuming the file is a .csv"
   ]
  },
  {
   "cell_type": "code",
   "execution_count": 30,
   "metadata": {
    "id": "gRzS2DS3aL64"
   },
   "outputs": [],
   "source": [
    "data_df = pd.read_csv(file_path)\n"
   ]
  },
  {
   "cell_type": "code",
   "execution_count": 31,
   "metadata": {
    "id": "d7rIkTENip3T"
   },
   "outputs": [],
   "source": [
    "data_df['Day'] = data_df['Day'].str.extract('(\\d+)').astype(int)"
   ]
  },
  {
   "cell_type": "code",
   "execution_count": 32,
   "metadata": {
    "id": "jVK9sVJHiqud"
   },
   "outputs": [],
   "source": [
    "# Parsing 'List of points' to convert string representation of points into list of tuples\n",
    "def parse_points_adjusted(points_str):\n",
    "    points_list = []\n",
    "    points_str = points_str.replace(')(', ') (')  # Ensure there's a space between each pair\n",
    "    for point_str in points_str.split(' '):\n",
    "        if point_str:\n",
    "            point = tuple(map(int, point_str.strip('()').split(',')))\n",
    "            points_list.append(point)\n",
    "    return points_list\n",
    "\n",
    "data_df['Points'] = data_df['List of points'].apply(parse_points_adjusted)"
   ]
  },
  {
   "cell_type": "markdown",
   "metadata": {
    "id": "zkC-f4U2ipoe"
   },
   "source": []
  },
  {
   "cell_type": "code",
   "execution_count": 33,
   "metadata": {
    "id": "MjE14WQ-ittH"
   },
   "outputs": [],
   "source": [
    "def generate_name(day, x, y, cluster, connected_component):\n",
    "    return f\"{day}_{x}_{y}_{cluster}_{connected_component}\"\n"
   ]
  },
  {
   "cell_type": "code",
   "execution_count": 34,
   "metadata": {
    "id": "yGnzEopPiugZ"
   },
   "outputs": [],
   "source": [
    "def generate_roi(name):\n",
    "    parts = name.split('_')\n",
    "    return '_'.join(parts[:3])"
   ]
  },
  {
   "cell_type": "code",
   "execution_count": 35,
   "metadata": {
    "id": "nUDLNMJGiwNx"
   },
   "outputs": [],
   "source": [
    "def map_month(day):\n",
    "    year = (day - 1) // 365 + 1  # Calculate the year based on the day value\n",
    "    day_within_year = (day - 1) % 365 + 1  # Calculate the day within the year\n",
    "\n",
    "    month_end_days = [31, 59, 90, 120, 151, 181, 212, 243, 273, 304, 334, 365]\n",
    "    for month, end_day in enumerate(month_end_days, start=1):\n",
    "        if day_within_year <= end_day:\n",
    "            return month"
   ]
  },
  {
   "cell_type": "code",
   "execution_count": 36,
   "metadata": {
    "id": "-ATLxe_LhxH6"
   },
   "outputs": [],
   "source": [
    "class_data_path = 'C:/Users/kharep/Downloads/15x15_area_f.csv'\n",
    "class_data = pd.read_csv(class_data_path)"
   ]
  },
  {
   "cell_type": "code",
   "execution_count": 37,
   "metadata": {
    "id": "5o9F2C2widaM"
   },
   "outputs": [],
   "source": [
    "def get_class_and_label_for_roi(roi):\n",
    "    # Check if roi is in the 'ROI' column\n",
    "    if roi in class_data['ROI'].values:\n",
    "        # If roi is present, get the corresponding row\n",
    "        row = class_data[class_data['ROI'] == roi]\n",
    "        # Return the values of 'Class' and 'Label' columns\n",
    "        return row['Class'].values[0], row['Label'].values[0]\n",
    "    else:\n",
    "        # If roi is not present, return None\n",
    "        return None, None"
   ]
  },
  {
   "cell_type": "code",
   "execution_count": 38,
   "metadata": {
    "colab": {
     "base_uri": "https://localhost:8080/",
     "height": 223
    },
    "id": "ZG4Qd5i7ix2t",
    "outputId": "29f8af3e-e829-421a-c03b-20a06e26a7db"
   },
   "outputs": [
    {
     "name": "stdout",
     "output_type": "stream",
     "text": [
      "0\n"
     ]
    },
    {
     "data": {
      "text/html": [
       "<div>\n",
       "<style scoped>\n",
       "    .dataframe tbody tr th:only-of-type {\n",
       "        vertical-align: middle;\n",
       "    }\n",
       "\n",
       "    .dataframe tbody tr th {\n",
       "        vertical-align: top;\n",
       "    }\n",
       "\n",
       "    .dataframe thead th {\n",
       "        text-align: right;\n",
       "    }\n",
       "</style>\n",
       "<table border=\"1\" class=\"dataframe\">\n",
       "  <thead>\n",
       "    <tr style=\"text-align: right;\">\n",
       "      <th></th>\n",
       "      <th>Name</th>\n",
       "      <th>ROI</th>\n",
       "      <th>Day</th>\n",
       "      <th>Month</th>\n",
       "      <th>Width</th>\n",
       "      <th>Height</th>\n",
       "      <th>x</th>\n",
       "      <th>y</th>\n",
       "      <th>Class</th>\n",
       "      <th>Label</th>\n",
       "    </tr>\n",
       "  </thead>\n",
       "  <tbody>\n",
       "    <tr>\n",
       "      <th>0</th>\n",
       "      <td>1001_63_48_c13_cp2</td>\n",
       "      <td>1001_63_48</td>\n",
       "      <td>1001</td>\n",
       "      <td>9</td>\n",
       "      <td>6</td>\n",
       "      <td>4</td>\n",
       "      <td>62</td>\n",
       "      <td>47</td>\n",
       "      <td>2</td>\n",
       "      <td>COL</td>\n",
       "    </tr>\n",
       "    <tr>\n",
       "      <th>1</th>\n",
       "      <td>1001_63_48_c13_cp2</td>\n",
       "      <td>1001_63_48</td>\n",
       "      <td>1001</td>\n",
       "      <td>9</td>\n",
       "      <td>6</td>\n",
       "      <td>4</td>\n",
       "      <td>61</td>\n",
       "      <td>48</td>\n",
       "      <td>2</td>\n",
       "      <td>COL</td>\n",
       "    </tr>\n",
       "    <tr>\n",
       "      <th>2</th>\n",
       "      <td>1001_63_48_c13_cp2</td>\n",
       "      <td>1001_63_48</td>\n",
       "      <td>1001</td>\n",
       "      <td>9</td>\n",
       "      <td>6</td>\n",
       "      <td>4</td>\n",
       "      <td>62</td>\n",
       "      <td>49</td>\n",
       "      <td>2</td>\n",
       "      <td>COL</td>\n",
       "    </tr>\n",
       "    <tr>\n",
       "      <th>3</th>\n",
       "      <td>1001_63_48_c13_cp2</td>\n",
       "      <td>1001_63_48</td>\n",
       "      <td>1001</td>\n",
       "      <td>9</td>\n",
       "      <td>6</td>\n",
       "      <td>4</td>\n",
       "      <td>62</td>\n",
       "      <td>50</td>\n",
       "      <td>2</td>\n",
       "      <td>COL</td>\n",
       "    </tr>\n",
       "    <tr>\n",
       "      <th>4</th>\n",
       "      <td>1001_63_48_c13_cp2</td>\n",
       "      <td>1001_63_48</td>\n",
       "      <td>1001</td>\n",
       "      <td>9</td>\n",
       "      <td>6</td>\n",
       "      <td>4</td>\n",
       "      <td>64</td>\n",
       "      <td>50</td>\n",
       "      <td>2</td>\n",
       "      <td>COL</td>\n",
       "    </tr>\n",
       "  </tbody>\n",
       "</table>\n",
       "</div>"
      ],
      "text/plain": [
       "                 Name         ROI   Day  Month  Width  Height   x   y  Class  \\\n",
       "0  1001_63_48_c13_cp2  1001_63_48  1001      9      6       4  62  47      2   \n",
       "1  1001_63_48_c13_cp2  1001_63_48  1001      9      6       4  61  48      2   \n",
       "2  1001_63_48_c13_cp2  1001_63_48  1001      9      6       4  62  49      2   \n",
       "3  1001_63_48_c13_cp2  1001_63_48  1001      9      6       4  62  50      2   \n",
       "4  1001_63_48_c13_cp2  1001_63_48  1001      9      6       4  64  50      2   \n",
       "\n",
       "  Label  \n",
       "0   COL  \n",
       "1   COL  \n",
       "2   COL  \n",
       "3   COL  \n",
       "4   COL  "
      ]
     },
     "execution_count": 38,
     "metadata": {},
     "output_type": "execute_result"
    }
   ],
   "source": [
    "# Expand the DataFrame\n",
    "i = 0\n",
    "num_matched = set()\n",
    "expanded_rows = []\n",
    "for _, row in data_df.iterrows():\n",
    "    day = row['Day']\n",
    "    cluster = row['Cluster']\n",
    "    connected_component = row['ConectedComponent']\n",
    "    for point in row['Points']:\n",
    "        x, y = point\n",
    "        name = generate_name(day, row['CenterX'], row['CenterY'], cluster, connected_component)\n",
    "        roi = generate_roi(name)\n",
    "        num_matched.add(roi)\n",
    "        class_val, label = get_class_and_label_for_roi(roi)\n",
    "        if class_val != None:\n",
    "          expanded_rows.append({\n",
    "            \"Name\": name,\n",
    "            \"ROI\": roi,\n",
    "            \"Day\": day,\n",
    "            \"Month\": map_month(day),\n",
    "            \"Width\": row['Width'],\n",
    "            \"Height\": row['height'],\n",
    "            \"x\": x,\n",
    "            \"y\": y,\n",
    "            'Class': class_val,\n",
    "            'Label': label\n",
    "          })\n",
    "\n",
    "# Convert expanded rows into a DataFrame\n",
    "expanded_df = pd.DataFrame(expanded_rows)\n",
    "\n",
    "# Optionally, save the expanded DataFrame to a new CSV file\n",
    "output_file_path = 'C:/Users/kharep/Downloads/Kmean_Norm_Non-Plus1/Final_ROI_Dataset.csv'\n",
    "\n",
    "print(i)\n",
    "# Display the first few rows of the expanded DataFrame\n",
    "expanded_df.head()"
   ]
  },
  {
   "cell_type": "code",
   "execution_count": 26,
   "metadata": {
    "colab": {
     "base_uri": "https://localhost:8080/"
    },
    "id": "xRIHrzLWyVO4",
    "outputId": "22df1b83-ee30-4f83-beb8-f78d8153b54f"
   },
   "outputs": [
    {
     "name": "stdout",
     "output_type": "stream",
     "text": [
      "0\n"
     ]
    }
   ],
   "source": [
    "i = 0\n",
    "for j in class_data['ROI'].values:\n",
    "  if j not in num_matched:\n",
    "    i +=1\n",
    "print(i)"
   ]
  },
  {
   "cell_type": "code",
   "execution_count": 23,
   "metadata": {
    "colab": {
     "base_uri": "https://localhost:8080/"
    },
    "id": "39zf_nzRm0it",
    "outputId": "3db4261c-bbf8-42ba-bd0a-6ee4e783b164"
   },
   "outputs": [
    {
     "data": {
      "text/plain": [
       "31093"
      ]
     },
     "execution_count": 23,
     "metadata": {},
     "output_type": "execute_result"
    }
   ],
   "source": [
    "expanded_df.shape[0]"
   ]
  },
  {
   "cell_type": "code",
   "execution_count": 24,
   "metadata": {
    "colab": {
     "base_uri": "https://localhost:8080/"
    },
    "id": "wdhMTdv8uPH5",
    "outputId": "3065757a-4c9b-44fb-ae4d-2cdb48e14f8b"
   },
   "outputs": [
    {
     "data": {
      "text/plain": [
       "3987"
      ]
     },
     "execution_count": 24,
     "metadata": {},
     "output_type": "execute_result"
    }
   ],
   "source": [
    "data_df.shape[0]"
   ]
  },
  {
   "cell_type": "code",
   "execution_count": 39,
   "metadata": {
    "colab": {
     "base_uri": "https://localhost:8080/",
     "height": 564
    },
    "id": "cbivYKeysq98",
    "outputId": "62cbcc31-dc66-45dd-9780-07418514daa5"
   },
   "outputs": [
    {
     "data": {
      "image/png": "[encoded data removed]",
      "text/plain": [
       "<Figure size 800x600 with 1 Axes>"
      ]
     },
     "metadata": {},
     "output_type": "display_data"
    }
   ],
   "source": [
    "import matplotlib.pyplot as plt\n",
    "\n",
    "# Plotting the histogram\n",
    "plt.figure(figsize=(8, 6))\n",
    "plt.hist(expanded_df['Class'], bins=3, color='skyblue', edgecolor='black')  # Adjust the number of bins as needed\n",
    "plt.title('Histogram of Class')\n",
    "plt.xlabel('Values')\n",
    "plt.ylabel('Frequency')\n",
    "plt.grid(True)\n",
    "plt.show()"
   ]
  },
  {
   "cell_type": "code",
   "execution_count": null,
   "metadata": {
    "colab": {
     "base_uri": "https://localhost:8080/",
     "height": 635
    },
    "id": "vpS4leLjtwRB",
    "outputId": "65145fab-56ad-41b7-b822-084fba852b0a"
   },
   "outputs": [
    {
     "data": {
      "image/png": "[encoded data removed]",
      "text/plain": [
       "<Figure size 800x600 with 1 Axes>"
      ]
     },
     "metadata": {},
     "output_type": "display_data"
    }
   ],
   "source": [
    "top_ten_roi = expanded_df['ROI'].value_counts().nlargest(10)  # Extract top ten most frequent values\n",
    "plt.figure(figsize=(8, 6))\n",
    "top_ten_roi.plot(kind='bar', color='skyblue', edgecolor='black')\n",
    "plt.title('Top Ten Most Frequent ROI')\n",
    "plt.xlabel('ROI Values')\n",
    "plt.ylabel('Frequency')\n",
    "plt.grid(True)\n",
    "plt.show()"
   ]
  },
  {
   "cell_type": "code",
   "execution_count": 27,
   "metadata": {
    "id": "MehZ4OzClE9M"
   },
   "outputs": [],
   "source": [
    "expanded_df.to_csv(output_file_path, index=False)"
   ]
  },
  {
   "cell_type": "code",
   "execution_count": null,
   "metadata": {},
   "outputs": [],
   "source": []
  }
 ],
 "metadata": {
  "colab": {
   "provenance": []
  },
  "kernelspec": {
   "display_name": "Python 3 (ipykernel)",
   "language": "python",
   "name": "python3"
  },
  "language_info": {
   "codemirror_mode": {
    "name": "ipython",
    "version": 3
   },
   "file_extension": ".py",
   "mimetype": "text/x-python",
   "name": "python",
   "nbconvert_exporter": "python",
   "pygments_lexer": "ipython3",
   "version": "3.11.7"
  }
 },
 "nbformat": 4,
 "nbformat_minor": 4
}
